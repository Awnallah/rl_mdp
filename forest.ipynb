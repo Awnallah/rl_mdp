{
 "cells": [
  {
   "cell_type": "code",
   "execution_count": null,
   "metadata": {},
   "outputs": [],
   "source": [
    "# import mdptoolbox, mdptoolbox.example\n",
    "# import matplotlib.pyplot as plt\n",
    "# import numpy as np"
   ]
  },
  {
   "cell_type": "code",
   "execution_count": null,
   "metadata": {},
   "outputs": [],
   "source": [
    "import example\n",
    "import mdp as mdp\n",
    "import numpy as np\n",
    "import pandas as pd\n",
    "import matplotlib.pyplot as plt"
   ]
  },
  {
   "cell_type": "code",
   "execution_count": null,
   "metadata": {},
   "outputs": [],
   "source": [
    "%matplotlib inline"
   ]
  },
  {
   "cell_type": "code",
   "execution_count": null,
   "metadata": {},
   "outputs": [],
   "source": [
    "def run_forest(states, solver, titl):\n",
    "    P, R = example.forest(S=states)\n",
    "    algos = {\"v\": mdp.ValueIteration(P, R,0.99,max_iter= 100000, epsilon=0.00001),\n",
    "             \"p\": mdp.PolicyIteration(P, R,0.99), \"q\": mdp.QLearning(P, R,0.99, n_iter=100000)}\n",
    "    vi = algos[solver]\n",
    "    vi.setVerbose()\n",
    "\n",
    "#     vi.verbose = True\n",
    "\n",
    "    vi.run()\n",
    "    df=pd.DataFrame(vi.run_stats)\n",
    "    df.index = df[\"Iteration\"]\n",
    "\n",
    "    print(\"*************RESUlTS*******************\")\n",
    "#     plt.plot(np.diff(vi.V), color='r')\n",
    "#     df[['Max V', 'Mean V']].plot()\n",
    "#     plt.title(\"Value Iter - Forest with \" +  str(states) + \" states\")\n",
    "#     plt.xlabel(\"iterations\")\n",
    "# #     plt.ylabel(\"value\")\n",
    "#     plt.show()\n",
    "    \n",
    "    \n",
    "#     df[['Variation']].plot()\n",
    "#     plt.title(\"Value Iter - Forest with \" +  str(states) + \" states\")\n",
    "#     plt.xlabel(\"iterations\")\n",
    "#     plt.ylabel(\"Variation\")\n",
    "#     plt.show()\n",
    "    \n",
    "#     df[['Variation']].plot()\n",
    "#     plt.title(\"Value Iter - Forest with \" +  str(states) + \" states\")\n",
    "#     plt.xlabel(\"iterations\")\n",
    "#     plt.ylabel(\"Variation\")\n",
    "#     plt.show()\n",
    "    \n",
    "    \n",
    "#     df[['Time']].plot()\n",
    "#     plt.title(\"Value Iter - Forest with \" +  str(states) + \" states\")\n",
    "#     plt.xlabel(\"iterations\")\n",
    "#     plt.ylabel(\"Time\")\n",
    "#     plt.show()\n",
    "\n",
    "    title = titl + \" - Forest with \" +  str(states) + \" states\"\n",
    "    df[['Variation', 'Time', 'Max V', 'Mean V']].plot(subplots=True, layout=(2,2), figsize=(8,6), grid=True, title = title)\n",
    "\n",
    "\n",
    "    \n",
    "    print(\"states: \", states)\n",
    "    \n",
    "    print(\"V time: \", vi.time)\n",
    "    \n",
    "    if hasattr(vi, 'iter'):\n",
    "        print(\"V iterations : \", vi.iter)\n",
    "        \n",
    "        \n",
    "    print(\"highest V: \", np.max(vi.V))\n",
    "    return vi.policy\n",
    "    \n",
    "\n"
   ]
  },
  {
   "cell_type": "code",
   "execution_count": null,
   "metadata": {},
   "outputs": [],
   "source": []
  },
  {
   "cell_type": "code",
   "execution_count": null,
   "metadata": {},
   "outputs": [],
   "source": [
    "# def run_forestQ(states):\n",
    "#     P, R = example.forest(S=states)\n",
    "#     vi = mdp.QLearning(P, R,0.999)\n",
    "\n",
    "# #     vi.verbose = True\n",
    "\n",
    "#     vi.run()\n",
    "\n",
    "#     print(\"*************RESUlTS*******************\")\n",
    "#     plt.plot(vi.V)\n",
    "#     plt.show()\n",
    "    \n",
    "#     print(\"states: \", states)\n",
    "    \n",
    "#     print(\"V time: \", vi.time)\n",
    "# #     print(\"Q policy : \", vi.policy)\n",
    "#     return vi.policy"
   ]
  },
  {
   "cell_type": "code",
   "execution_count": null,
   "metadata": {},
   "outputs": [],
   "source": [
    "_ = run_forest(50, \"v\", \"Value Iter\")"
   ]
  },
  {
   "cell_type": "code",
   "execution_count": null,
   "metadata": {},
   "outputs": [],
   "source": [
    "_ = run_forest(50, \"p\", \"Policy Iter\")"
   ]
  },
  {
   "cell_type": "code",
   "execution_count": null,
   "metadata": {},
   "outputs": [],
   "source": [
    "_ = run_forest(50, \"q\", \"QLearning\")"
   ]
  },
  {
   "cell_type": "code",
   "execution_count": null,
   "metadata": {},
   "outputs": [],
   "source": []
  },
  {
   "cell_type": "code",
   "execution_count": null,
   "metadata": {},
   "outputs": [],
   "source": [
    "_ = run_forest(10000, \"v\", \"Value Iter\")"
   ]
  },
  {
   "cell_type": "code",
   "execution_count": null,
   "metadata": {},
   "outputs": [],
   "source": [
    "_ = run_forest(10000, \"p\", \"Policy Iter\")"
   ]
  },
  {
   "cell_type": "code",
   "execution_count": null,
   "metadata": {},
   "outputs": [],
   "source": [
    "_ = run_forest(10000, \"p\", \"Policy Iter\")"
   ]
  },
  {
   "cell_type": "code",
   "execution_count": null,
   "metadata": {},
   "outputs": [],
   "source": [
    "run_forest(10000, mdp.ValueIteration(P, R,0.99), \"Value Iter\") == run_forest(10000, mdp.PolicyIteration(P, R,0.99), \"Policy Iter\")"
   ]
  },
  {
   "cell_type": "code",
   "execution_count": null,
   "metadata": {},
   "outputs": [],
   "source": [
    "_ = run_forest(10000, \"q\", \"QLearning\")"
   ]
  },
  {
   "cell_type": "code",
   "execution_count": null,
   "metadata": {},
   "outputs": [],
   "source": [
    "_ = run_forest(10000, \"q\", \"QLearning\")"
   ]
  },
  {
   "cell_type": "code",
   "execution_count": null,
   "metadata": {},
   "outputs": [],
   "source": [
    "run_forest(10000) ==  run_forest(10000)"
   ]
  },
  {
   "cell_type": "code",
   "execution_count": null,
   "metadata": {},
   "outputs": [],
   "source": []
  },
  {
   "cell_type": "code",
   "execution_count": null,
   "metadata": {},
   "outputs": [],
   "source": []
  },
  {
   "cell_type": "code",
   "execution_count": null,
   "metadata": {},
   "outputs": [],
   "source": []
  },
  {
   "cell_type": "code",
   "execution_count": null,
   "metadata": {},
   "outputs": [],
   "source": []
  }
 ],
 "metadata": {
  "kernelspec": {
   "display_name": "Python 3",
   "language": "python",
   "name": "python3"
  },
  "language_info": {
   "codemirror_mode": {
    "name": "ipython",
    "version": 3
   },
   "file_extension": ".py",
   "mimetype": "text/x-python",
   "name": "python",
   "nbconvert_exporter": "python",
   "pygments_lexer": "ipython3",
   "version": "3.7.4"
  }
 },
 "nbformat": 4,
 "nbformat_minor": 2
}
